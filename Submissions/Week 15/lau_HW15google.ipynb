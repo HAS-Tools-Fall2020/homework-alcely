{
  "nbformat": 4,
  "nbformat_minor": 0,
  "metadata": {
    "colab": {
      "name": "lau_HW15google.ipynb",
      "provenance": [],
      "collapsed_sections": []
    },
    "kernelspec": {
      "name": "python3",
      "display_name": "Python 3"
    }
  },
  "cells": [
    {
      "cell_type": "markdown",
      "metadata": {
        "id": "zAucRvcqccKz"
      },
      "source": [
        "### Assignment Week 15: using Google Colab\n",
        "\n",
        "The following code generates a week 1, week 2 and 16 week streamflow forecasts.\n",
        "\n",
        "**Previous setps** for adding the function script:"
      ]
    },
    {
      "cell_type": "code",
      "metadata": {
        "colab": {
          "base_uri": "https://localhost:8080/"
        },
        "id": "vzHhV0nwfOF2",
        "outputId": "47e90827-153a-4d2f-f9e1-eafc251b9b27"
      },
      "source": [
        "# mount your Drive on the Colab\n",
        "from google.colab import drive\n",
        "drive.mount('/content/drive')\n",
        "\n",
        "# change your working directory\n",
        "%cd /content/drive/My \\Drive/Colab \\Notebooks\n"
      ],
      "execution_count": 4,
      "outputs": [
        {
          "output_type": "stream",
          "text": [
            "Mounted at /content/drive\n",
            "/content/drive/My Drive/Colab Notebooks\n"
          ],
          "name": "stdout"
        }
      ]
    },
    {
      "cell_type": "code",
      "metadata": {
        "colab": {
          "base_uri": "https://localhost:8080/"
        },
        "id": "fdkxpycqiI0B",
        "outputId": "34f8584b-bc68-4cf7-f1e7-80b4a54d7daa"
      },
      "source": [
        "# Apparently this is neccesary for Google Colab read the function script.\n",
        "!ls -l help_function.py"
      ],
      "execution_count": 6,
      "outputs": [
        {
          "output_type": "stream",
          "text": [
            "-rw------- 1 root root 4128 Nov 23 06:22 help_function.py\n"
          ],
          "name": "stdout"
        }
      ]
    },
    {
      "cell_type": "markdown",
      "metadata": {
        "id": "a3dAg8gpjgsq"
      },
      "source": [
        "### Now let run the main script!\n"
      ]
    },
    {
      "cell_type": "code",
      "metadata": {
        "colab": {
          "base_uri": "https://localhost:8080/"
        },
        "id": "guN_uecDizGX",
        "outputId": "f508a0ba-0adc-4502-9903-053af1617aed"
      },
      "source": [
        "# Section 1: Import the modules we will use.\n",
        "# Note: you may need to install some packages.\n",
        "\n",
        "import help_function as hf\n",
        "import numpy as np\n",
        "import pandas as pd\n",
        "import matplotlib.pyplot as plt\n",
        "import seaborn as sns\n",
        "\n",
        "# Section 2: Modify the following variables\n",
        "current_week = 15\n",
        "\n",
        "# USGS URL for the flow data:\n",
        "site = '09506000'\n",
        "start = '1989-01-01'\n",
        "end = '2020-12-5'\n",
        "\n",
        "# Section 3: Download the flow data directly from the USGS website.\n",
        "\n",
        "\n",
        "url = \"https://waterdata.usgs.gov/nwis/dv?cb_00060=on&format=rdb&site_no=\" + \\\n",
        "      site + \"&referred_module=sw&period=&begin_date=\" + start + \\\n",
        "      \"&end_date=\" + end\n",
        "data = pd.read_table(url, skiprows=30,\n",
        "                     names=['agency_cd', 'site_no',\n",
        "                            'datetime', 'flow', 'code'],\n",
        "                     parse_dates=['datetime'])\n",
        "\n",
        "# Expand the dates to year, month, day, and days of the week.\n",
        "data['year'] = pd.DatetimeIndex(data['datetime']).year\n",
        "data['month'] = pd.DatetimeIndex(data['datetime']).month\n",
        "data['day'] = pd.DatetimeIndex(data['datetime']).day\n",
        "data['dayofweek'] = pd.DatetimeIndex(data['datetime']).dayofweek\n",
        "\n",
        "# Aggregate flow values to weekly: from sunday to saturday\n",
        "flow_weekly = data.resample(\"W-SAT\", on='datetime').mean()\n",
        "\n",
        "# Section 4: The forecast\n",
        "# Step 4.1: Calculate the historical daily mean flow.\n",
        "\n",
        "hist_flow = hf.hist_daily_mean(data, 2020)\n",
        "\n",
        "# Step 4.2: create a dataframe to store all the variables\n",
        "# related to the forecast.\n",
        "# Step 4.3: aggregate the historical daily mean flow to weekly\n",
        "# starting from 2020-08-23 to the following 15 weeks.\n",
        "mymodel = pd.DataFrame(\n",
        "    {'hist_data': hf.weekly_mean(hist_flow, 8, 29, 16),\n",
        "     'data_2020': np.zeros(16)},\n",
        "    index=np.arange(1, 17))\n",
        "\n",
        "# Step 4.4: Store in the df the 2020 weekly flow\n",
        "# from 2020-08-23 to the most recent value\n",
        "mymodel['data_2020'] = (mymodel['data_2020'].iloc[0:current_week] +\n",
        "                        flow_weekly['2020-08-29':]['flow'].values\n",
        "                        ).round(2)\n",
        "\n",
        "# Step 4.5: calculate correction factor\n",
        "mymodel['factors'] = (mymodel.data_2020.values /\n",
        "                      mymodel.hist_data.values\n",
        "                      ).round(3)\n",
        "\n",
        "# Step 4.6: Brain model for 16 weeks\n",
        "mymodel['forecasts16'] = (mymodel['hist_data'].values *\n",
        "                          mymodel['factors'][10:current_week].mean()\n",
        "                          ).round(2)\n",
        "\n",
        "# Step 4.7: Regressive model for 16 weeks\n",
        "x = mymodel.iloc[7:current_week][['hist_data']].values.reshape(-1, 1)\n",
        "y = mymodel.iloc[7:current_week]['data_2020'].values\n",
        "\n",
        "lt_pred = []\n",
        "for i in range(16):\n",
        "    initial_xval = mymodel['hist_data'].iloc[i]\n",
        "    if i < 4:\n",
        "        pred = (hf.R_Model(x, y, initial_xval) * 0.6).round(2)\n",
        "    else:\n",
        "        pred = hf.R_Model(x, y, initial_xval).round(2)\n",
        "    lt_pred.append(pred[0])\n",
        "\n",
        "mymodel['Rmodel'] = lt_pred\n",
        "\n",
        "# Step 4.8: print results\n",
        "print('--------------------------')\n",
        "print('All you need to check:')\n",
        "print(mymodel)\n",
        "print('--------------------------')\n",
        "print('My forecast entries #', current_week)\n",
        "print('week1 =', mymodel['forecasts16'][current_week+1])\n",
        "print('week2 = forecast competition end')\n",
        "# print('week2 =', mymodel['forecasts16'][current_week+2])\n",
        "print('--------------------------')\n",
        "print('16 weeks forecast:')\n",
        "print(mymodel[['Rmodel']])\n",
        "print('--------------------------')\n",
        "print('Completed')"
      ],
      "execution_count": 11,
      "outputs": [
        {
          "output_type": "stream",
          "text": [
            "Coefficient of Determination =  0.65\n",
            "Coefficient of Determination =  0.65\n",
            "Coefficient of Determination =  0.65\n",
            "Coefficient of Determination =  0.65\n",
            "Coefficient of Determination =  0.65\n",
            "Coefficient of Determination =  0.65\n",
            "Coefficient of Determination =  0.65\n",
            "Coefficient of Determination =  0.65\n",
            "Coefficient of Determination =  0.65\n",
            "Coefficient of Determination =  0.65\n",
            "Coefficient of Determination =  0.65\n",
            "Coefficient of Determination =  0.65\n",
            "Coefficient of Determination =  0.65\n",
            "Coefficient of Determination =  0.65\n",
            "Coefficient of Determination =  0.65\n",
            "Coefficient of Determination =  0.65\n",
            "--------------------------\n",
            "All you need to check:\n",
            "    hist_data  data_2020  factors  forecasts16  Rmodel\n",
            "1     161.527      53.64    0.332        99.08   54.68\n",
            "2     197.060      57.69    0.293       120.88   67.05\n",
            "3     158.102      43.23    0.273        96.98   53.48\n",
            "4     198.930      58.00    0.292       122.02   67.71\n",
            "5     129.252      60.89    0.471        79.28   72.39\n",
            "6     145.559      60.29    0.414        89.29   81.86\n",
            "7     128.697      65.70    0.511        78.94   72.07\n",
            "8     152.730      73.66    0.482        93.68   86.02\n",
            "9     186.063      80.09    0.430       114.13  105.37\n",
            "10    197.733     107.77    0.545       121.29  112.15\n",
            "11    189.438     123.71    0.653       116.20  107.33\n",
            "12    252.843     149.43    0.591       155.09  144.14\n",
            "13    236.430     149.86    0.634       145.03  134.62\n",
            "14    302.461     149.29    0.494       185.53  172.95\n",
            "15    228.364     158.71    0.695       140.08  129.93\n",
            "16    316.341        NaN      NaN       194.04  181.01\n",
            "--------------------------\n",
            "My forecast entries # 15\n",
            "week1 = 194.04\n",
            "week2 = forecast competition end\n",
            "--------------------------\n",
            "16 weeks forecast:\n",
            "    Rmodel\n",
            "1    54.68\n",
            "2    67.05\n",
            "3    53.48\n",
            "4    67.71\n",
            "5    72.39\n",
            "6    81.86\n",
            "7    72.07\n",
            "8    86.02\n",
            "9   105.37\n",
            "10  112.15\n",
            "11  107.33\n",
            "12  144.14\n",
            "13  134.62\n",
            "14  172.95\n",
            "15  129.93\n",
            "16  181.01\n",
            "--------------------------\n",
            "Completed\n"
          ],
          "name": "stdout"
        }
      ]
    }
  ]
}