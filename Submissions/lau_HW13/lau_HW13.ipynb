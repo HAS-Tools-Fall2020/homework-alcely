{
 "cells": [
  {
   "cell_type": "markdown",
   "metadata": {},
   "source": [
    "# Assignment 13: Forecast #13 & IPython Notebooks\n",
    "**Name: Alcely Lau**\n",
    "\n",
    "**Date: 11/23/2020**\n",
    "___\n",
    "#### Table of Contents:\n",
    "1. [Introduction](#intro)\n",
    "1. [Forecast summary](#forecast)\n",
    "1. [Forecast evolution](#evol)\n",
    "1. [Forecast location](#location)\n",
    "1. [Forecast Code](#code)\n",
    "1. [Results](#results)\n",
    "1. [Graphs](#graphs)\n",
    "\n"
   ]
  },
  {
   "cell_type": "code",
   "execution_count": null,
   "metadata": {},
   "outputs": [],
   "source": []
  }
 ],
 "metadata": {
  "kernelspec": {
   "display_name": "Python [conda env:hastools] *",
   "language": "python",
   "name": "conda-env-hastools-py"
  },
  "language_info": {
   "codemirror_mode": {
    "name": "ipython",
    "version": 3
   },
   "file_extension": ".py",
   "mimetype": "text/x-python",
   "name": "python",
   "nbconvert_exporter": "python",
   "pygments_lexer": "ipython3",
   "version": "3.8.5"
  }
 },
 "nbformat": 4,
 "nbformat_minor": 4
}
